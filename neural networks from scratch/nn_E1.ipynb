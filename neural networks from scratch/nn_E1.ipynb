{
 "cells": [
  {
   "cell_type": "code",
   "execution_count": 2,
   "id": "8ba57a87",
   "metadata": {},
   "outputs": [],
   "source": [
    "import numpy as np"
   ]
  },
  {
   "cell_type": "code",
   "execution_count": 20,
   "id": "b2091468",
   "metadata": {},
   "outputs": [],
   "source": [
    "X = [[1 , 2 , 3 , 4],\n",
    "    [2.0 , 2 , 1 , 5],\n",
    "    [1.1 , 2.1 , 0 , 1.1]]"
   ]
  },
  {
   "cell_type": "code",
   "execution_count": 21,
   "id": "5c0ed138",
   "metadata": {},
   "outputs": [],
   "source": [
    "np.random.seed(42)"
   ]
  },
  {
   "cell_type": "code",
   "execution_count": 33,
   "id": "1f4c18dd",
   "metadata": {},
   "outputs": [],
   "source": [
    "class Layer_Dence:\n",
    "    def __init__(self , n_inputs , n_neurons ):\n",
    "        self.weights = 0.10 * np.random.rand(n_inputs , n_neurons )\n",
    "        self.biases = np.zeros((1 , n_neurons))\n",
    "\n",
    "    def forward(self , inputs ):\n",
    "        self.outputs = np.dot(inputs , self.weights ) + self.biases\n"
   ]
  },
  {
   "cell_type": "code",
   "execution_count": 34,
   "id": "d5555da2",
   "metadata": {},
   "outputs": [],
   "source": [
    "layer1 = Layer_Dence(4 , 5)\n",
    "layer2 = Layer_Dence(5 , 4 )"
   ]
  },
  {
   "cell_type": "code",
   "execution_count": 35,
   "id": "8fa261ae",
   "metadata": {},
   "outputs": [
    {
     "name": "stdout",
     "output_type": "stream",
     "text": [
      "layer - 1  :  [[0.48851104 0.51555284 0.53608315 0.69607642 0.51191065]\n",
      " [0.52084972 0.62731683 0.40023622 0.67456531 0.52992077]\n",
      " [0.15166924 0.24458949 0.2137676  0.20217188 0.17532574]]\n"
     ]
    }
   ],
   "source": [
    "layer1.forward(X)\n",
    "print(f\"layer - 1  :  {layer1.outputs}\")"
   ]
  },
  {
   "cell_type": "code",
   "execution_count": 37,
   "id": "49f3ad5b",
   "metadata": {},
   "outputs": [
    {
     "name": "stdout",
     "output_type": "stream",
     "text": [
      " layer 2 : [[0.08646929 0.1526639  0.16433281 0.13390215]\n",
      " [0.09221    0.15393682 0.16745985 0.14191559]\n",
      " [0.02948913 0.05410704 0.05919216 0.05104176]]\n"
     ]
    }
   ],
   "source": [
    "layer2.forward(layer1.outputs)\n",
    "print(f\" layer 2 : {layer2.outputs}\")"
   ]
  },
  {
   "cell_type": "code",
   "execution_count": null,
   "id": "618b5926",
   "metadata": {},
   "outputs": [],
   "source": []
  }
 ],
 "metadata": {
  "kernelspec": {
   "display_name": "Python 3",
   "language": "python",
   "name": "python3"
  },
  "language_info": {
   "codemirror_mode": {
    "name": "ipython",
    "version": 3
   },
   "file_extension": ".py",
   "mimetype": "text/x-python",
   "name": "python",
   "nbconvert_exporter": "python",
   "pygments_lexer": "ipython3",
   "version": "3.12.8"
  }
 },
 "nbformat": 4,
 "nbformat_minor": 5
}
