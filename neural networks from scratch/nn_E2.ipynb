{
 "cells": [
  {
   "cell_type": "code",
   "execution_count": 2,
   "id": "a2729543",
   "metadata": {},
   "outputs": [],
   "source": [
    "import numpy as np\n",
    "import math"
   ]
  },
  {
   "cell_type": "code",
   "execution_count": null,
   "id": "846a8fbd",
   "metadata": {},
   "outputs": [],
   "source": [
    "# sigmoid\n",
    "def sigmoid(x):\n",
    "    if isinstance(x, (int, float)):\n",
    "        return 1 / (1 + math.exp(-x))\n",
    "    else: \n",
    "        return 1 / (1 + np.exp(-x))"
   ]
  },
  {
   "cell_type": "code",
   "execution_count": null,
   "id": "d1eb8c0e",
   "metadata": {},
   "outputs": [
    {
     "data": {
      "text/plain": [
       "4.5397868702434395e-05"
      ]
     },
     "execution_count": 4,
     "metadata": {},
     "output_type": "execute_result"
    }
   ],
   "source": [
    "def tanh(x):\n",
    "    if isinstance(x, (int, float)):\n",
    "        return math.tanh(x)\n",
    "    else:\n",
    "        return np.tanh(x)"
   ]
  },
  {
   "cell_type": "code",
   "execution_count": null,
   "id": "122d036c",
   "metadata": {},
   "outputs": [],
   "source": [
    "def relu(x):\n",
    "    if isinstance(x, (int, float)):\n",
    "        return max(0, x)\n",
    "    else:\n",
    "        return np.maximum(0, x)\n",
    "\n",
    "# linear (no activation)\n",
    "def linear(x):\n",
    "    return x"
   ]
  },
  {
   "cell_type": "code",
   "execution_count": null,
   "id": "53578e7e",
   "metadata": {},
   "outputs": [],
   "source": [
    "class Layer:\n",
    "    def __init__(self , input_size , output_size , activision_func=sigmoid):\n",
    "        self.weights = np.random.randn(input_size , output_size ) * 0.5\n",
    "        self.biases = np.zeros(output_size)\n",
    "        self.activision_func = activision_func\n",
    "\n",
    "\n",
    "    def forward(self , x):\n",
    "        z = np.dot(x , self.weights ) + self.biases\n",
    "        return self.activision_func(z)\n",
    "    "
   ]
  },
  {
   "cell_type": "code",
   "execution_count": null,
   "id": "183116ab",
   "metadata": {},
   "outputs": [],
   "source": [
    "class Network:\n",
    "    def __init__(self ):\n",
    "        self.layers = []\n",
    "\n",
    "    def add_layer(self, input_size , output_size , activision_func ):\n",
    "        layer = Layer(input_size , output_size , activision_func )\n",
    "        self.layers.append(layer)"
   ]
  }
 ],
 "metadata": {
  "kernelspec": {
   "display_name": "Python 3",
   "language": "python",
   "name": "python3"
  },
  "language_info": {
   "codemirror_mode": {
    "name": "ipython",
    "version": 3
   },
   "file_extension": ".py",
   "mimetype": "text/x-python",
   "name": "python",
   "nbconvert_exporter": "python",
   "pygments_lexer": "ipython3",
   "version": "3.12.8"
  }
 },
 "nbformat": 4,
 "nbformat_minor": 5
}
