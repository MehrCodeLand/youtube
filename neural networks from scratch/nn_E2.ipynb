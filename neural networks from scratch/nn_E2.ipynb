{
 "cells": [
  {
   "cell_type": "code",
   "execution_count": 10,
   "id": "a2729543",
   "metadata": {},
   "outputs": [],
   "source": [
    "import numpy as np\n",
    "import math"
   ]
  },
  {
   "cell_type": "code",
   "execution_count": 2,
   "id": "846a8fbd",
   "metadata": {},
   "outputs": [],
   "source": [
    "# sigmoid\n",
    "def sigmoid(x):\n",
    "    if isinstance(x, (int, float)):\n",
    "        return 1 / (1 + math.exp(-x))\n",
    "    else: \n",
    "        return 1 / (1 + np.exp(-x))"
   ]
  },
  {
   "cell_type": "code",
   "execution_count": 3,
   "id": "d1eb8c0e",
   "metadata": {},
   "outputs": [],
   "source": [
    "def tanh(x):\n",
    "    if isinstance(x, (int, float)):\n",
    "        return math.tanh(x)\n",
    "    else:\n",
    "        return np.tanh(x)"
   ]
  },
  {
   "cell_type": "code",
   "execution_count": 4,
   "id": "122d036c",
   "metadata": {},
   "outputs": [],
   "source": [
    "def relu(x):\n",
    "    if isinstance(x, (int, float)):\n",
    "        return max(0, x)\n",
    "    else:\n",
    "        return np.maximum(0, x)\n",
    "\n",
    "# linear (no activation)\n",
    "def linear(x):\n",
    "    return x"
   ]
  },
  {
   "cell_type": "code",
   "execution_count": 35,
   "id": "53578e7e",
   "metadata": {},
   "outputs": [],
   "source": [
    "class Layer:\n",
    "    def __init__(self , input_size , output_size , activision_func=sigmoid):\n",
    "        self.weights = np.random.randn(input_size , output_size ) * 0.5\n",
    "        self.biases = np.zeros(output_size)\n",
    "        self.activision_func = activision_func\n",
    "\n",
    "\n",
    "    def forward(self , x):\n",
    "        z = np.dot(x , self.weights ) + self.biases\n",
    "        return self.activision_func(z)\n",
    "    "
   ]
  },
  {
   "cell_type": "code",
   "execution_count": 36,
   "id": "183116ab",
   "metadata": {},
   "outputs": [],
   "source": [
    "class Network:\n",
    "    def __init__(self ):\n",
    "        self.layers = []\n",
    "\n",
    "    def add_layer(self, input_size , output_size , activision_func ):\n",
    "        layer = Layer(input_size , output_size , activision_func )\n",
    "        self.layers.append(layer)\n",
    "\n",
    "    def predict(self , x ):\n",
    "        output = x \n",
    "        for layer in self.layers:\n",
    "            output = layer.forward(output)\n",
    "        return output"
   ]
  },
  {
   "cell_type": "code",
   "execution_count": 37,
   "id": "67bd6b0f",
   "metadata": {},
   "outputs": [
    {
     "name": "stdout",
     "output_type": "stream",
     "text": [
      "Testing Activation Functions:\n",
      "------------------------------\n"
     ]
    }
   ],
   "source": [
    "print(\"Testing Activation Functions:\")\n",
    "print(\"-\" * 30)\n",
    "test_values = [-2, -1, 0, 1, 2]"
   ]
  },
  {
   "cell_type": "code",
   "execution_count": 43,
   "id": "2b64e9dd",
   "metadata": {},
   "outputs": [
    {
     "name": "stdout",
     "output_type": "stream",
     "text": [
      "Input: -2\n",
      "  Sigmoid: 0.1192\n",
      "  Tanh:    -0.9640\n",
      "  ReLU:    0.0000\n",
      "  Linear:  -2.0000\n",
      "Input: -1\n",
      "  Sigmoid: 0.2689\n",
      "  Tanh:    -0.7616\n",
      "  ReLU:    0.0000\n",
      "  Linear:  -1.0000\n",
      "Input: 0\n",
      "  Sigmoid: 0.5000\n",
      "  Tanh:    0.0000\n",
      "  ReLU:    0.0000\n",
      "  Linear:  0.0000\n",
      "Input: 1\n",
      "  Sigmoid: 0.7311\n",
      "  Tanh:    0.7616\n",
      "  ReLU:    1.0000\n",
      "  Linear:  1.0000\n",
      "Input: 2\n",
      "  Sigmoid: 0.8808\n",
      "  Tanh:    0.9640\n",
      "  ReLU:    2.0000\n",
      "  Linear:  2.0000\n"
     ]
    }
   ],
   "source": [
    "for val in test_values:\n",
    "    print(f\"Input: {val}\")\n",
    "    print(f\"  Sigmoid: {sigmoid(val):.4f}\")\n",
    "    print(f\"  Tanh:    {tanh(val):.4f}\")\n",
    "    print(f\"  ReLU:    {relu(val):.4f}\")\n",
    "    print(f\"  Linear:  {linear(val):.4f}\")\n"
   ]
  },
  {
   "cell_type": "code",
   "execution_count": 39,
   "id": "3500dbac",
   "metadata": {},
   "outputs": [
    {
     "name": "stdout",
     "output_type": "stream",
     "text": [
      "Simple 2-Layer Network:\n",
      "------------------------------\n"
     ]
    }
   ],
   "source": [
    "print(\"Simple 2-Layer Network:\")\n",
    "print(\"-\" * 30)"
   ]
  },
  {
   "cell_type": "code",
   "execution_count": 40,
   "id": "69ffb290",
   "metadata": {},
   "outputs": [],
   "source": [
    "network = Network()\n",
    "network.add_layer(2, 3, sigmoid)  # Hidden layer with sigmoid\n",
    "network.add_layer(3, 1, linear)   # Output layer with linear\n"
   ]
  },
  {
   "cell_type": "code",
   "execution_count": 41,
   "id": "a5d74667",
   "metadata": {},
   "outputs": [],
   "source": [
    "test_inputs = [\n",
    "    [1, 0],\n",
    "    [0, 1], \n",
    "    [1, 1],\n",
    "    [0.5, 0.5]\n",
    "]"
   ]
  },
  {
   "cell_type": "code",
   "execution_count": 42,
   "id": "c8f26982",
   "metadata": {},
   "outputs": [
    {
     "name": "stdout",
     "output_type": "stream",
     "text": [
      "Input: [1, 0] -> Output: -0.0842\n",
      "Input: [0, 1] -> Output: -0.1776\n",
      "Input: [1, 1] -> Output: 0.0674\n",
      "Input: [0.5, 0.5] -> Output: -0.1277\n"
     ]
    }
   ],
   "source": [
    "for inp in test_inputs:\n",
    "    output = network.predict(np.array(inp))\n",
    "    print(f\"Input: {inp} -> Output: {output[0]:.4f}\")\n"
   ]
  },
  {
   "cell_type": "code",
   "execution_count": 32,
   "id": "f9fe906d",
   "metadata": {},
   "outputs": [
    {
     "data": {
      "text/plain": [
       "np.float64(0.01810858783245206)"
      ]
     },
     "execution_count": 32,
     "metadata": {},
     "output_type": "execute_result"
    }
   ],
   "source": [
    "output[0]"
   ]
  },
  {
   "cell_type": "code",
   "execution_count": 17,
   "id": "f2c1237d",
   "metadata": {},
   "outputs": [],
   "source": [
    "network3 = Network()\n",
    "network3.add_layer(2, 4, relu)     # Hidden layer 1 with ReLU\n",
    "network3.add_layer(4, 2, tanh)     # Hidden layer 2 with Tanh  \n",
    "network3.add_layer(2, 1, sigmoid)"
   ]
  },
  {
   "cell_type": "code",
   "execution_count": 18,
   "id": "049587ef",
   "metadata": {},
   "outputs": [
    {
     "name": "stdout",
     "output_type": "stream",
     "text": [
      "Input: [1, -1] -> Output: 0.5158\n"
     ]
    }
   ],
   "source": [
    "test_input = [1, -1]\n",
    "output = network3.predict(np.array(test_input))\n",
    "print(f\"Input: {test_input} -> Output: {output[0]:.4f}\")"
   ]
  },
  {
   "cell_type": "code",
   "execution_count": null,
   "id": "ae3df6c9",
   "metadata": {},
   "outputs": [],
   "source": []
  }
 ],
 "metadata": {
  "kernelspec": {
   "display_name": "Python 3",
   "language": "python",
   "name": "python3"
  },
  "language_info": {
   "codemirror_mode": {
    "name": "ipython",
    "version": 3
   },
   "file_extension": ".py",
   "mimetype": "text/x-python",
   "name": "python",
   "nbconvert_exporter": "python",
   "pygments_lexer": "ipython3",
   "version": "3.12.8"
  }
 },
 "nbformat": 4,
 "nbformat_minor": 5
}
